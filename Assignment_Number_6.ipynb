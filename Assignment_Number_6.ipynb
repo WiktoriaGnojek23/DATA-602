{
  "nbformat": 4,
  "nbformat_minor": 0,
  "metadata": {
    "colab": {
      "provenance": [],
      "authorship_tag": "ABX9TyM6OUB50hhLYd3lyMZYutQK",
      "include_colab_link": true
    },
    "kernelspec": {
      "name": "python3",
      "display_name": "Python 3"
    },
    "language_info": {
      "name": "python"
    }
  },
  "cells": [
    {
      "cell_type": "markdown",
      "metadata": {
        "id": "view-in-github",
        "colab_type": "text"
      },
      "source": [
        "<a href=\"https://colab.research.google.com/github/WiktoriaGnojek23/DATA-602/blob/main/Assignment_Number_6.ipynb\" target=\"_parent\"><img src=\"https://colab.research.google.com/assets/colab-badge.svg\" alt=\"Open In Colab\"/></a>"
      ]
    },
    {
      "cell_type": "markdown",
      "source": [
        "In this assignment, you will practice loading data into your python environment. It is\n",
        "recommended that you use either google colab or juypter notebook, however, you may\n",
        "use any environment you prefer as long as you are using the pandas library.\n"
      ],
      "metadata": {
        "id": "ytsSOWpzc_jJ"
      }
    },
    {
      "cell_type": "markdown",
      "source": [
        "From the following link, choose two files to answer the questions below.\n",
        "https://github.com/data602sps/datasetspractice.\n",
        "\n",
        "Datasets chosen; https://github.com/data602sps/datasetspractice/blob/main/nba.csv and https://github.com/data602sps/datasetspractice/blob/main/salarydata.csv. "
      ],
      "metadata": {
        "id": "jeEenUtKdIls"
      }
    },
    {
      "cell_type": "code",
      "source": [
        "## Beginning with the two datasets found in GitHub\n",
        "\n",
        "## Q1. Load your dataset into python using the pandas library and save data into a dataframe named dfi (where i is one of your datasets, for a total of 4).\n",
        "import pandas as pd\n",
        "dfi = pd.read_csv('https://raw.githubusercontent.com/data602sps/datasetspractice/main/nba.csv')\n",
        "dfj = pd.read_csv('https://raw.githubusercontent.com/data602sps/datasetspractice/main/salarydata.csv')\n",
        "\n",
        "##Q2. Preview your data by calling your dataframe’s name. How many columns and rows do you see?\n",
        "## print intial lines of data set\n",
        "print(dfi.head(10))\n",
        "print(dfj.head(10))\n",
        "# relevant information\n",
        "print(\"Number of rows for dfi:\", len(dfi))\n",
        "print(\"Number of columns dfi:\", len(dfi.columns))\n",
        "print(\"Number of rows dfj:\", len(dfj))\n",
        "print(\"Number of columns dfj:\", len(dfj.columns))\n",
        "## Q3. Examine the shape of your data using the .shape command and the data types of your columns using .dtypes.\n",
        "# Examine the shape of the data\n",
        "print(\"Data shape for dfi:\", dfi.shape)\n",
        "print(\"Data shape for dfj:\", dfj.shape)\n",
        "\n",
        "# Examine the data types of the columns\n",
        "print(\"Data types of dfi:\")\n",
        "print(dfi.dtypes)\n",
        "print(\"Data types of dfj:\")\n",
        "print(dfj.dtypes)\n",
        "# Q4. Use .describe() on your data. What do you notice about your data? What does this command return?\n",
        "# Use .describe() on the data\n",
        "## the above command shows the numeric descriptions of mean, std, quartiles, etc. This is a statistic summary command. \n",
        "description_dfi = dfi.describe()\n",
        "print(description_dfi)\n",
        "description_dfj = dfj.describe()\n",
        "print(description_dfj) \n",
        "\n",
        "## Q5. Use the .head() and .tail() command - what does this do?\n",
        "# View the top 5 rows using .head()\n",
        "top_rows = dfi.head()\n",
        "print(\"Top 5 rows of dfi:\")\n",
        "print(top_rows)\n",
        "\n",
        "# View the bottom 5 rows using .tail()\n",
        "bottom_rows = dfi.tail()\n",
        "print(\"Bottom 5 rows of dfi:\")\n",
        "print(bottom_rows)\n",
        "\n",
        "# View the top 5 rows using .head()\n",
        "top_rows_j = dfj.head()\n",
        "print(\"Top 5 rows of dfj:\")\n",
        "print(top_rows_j)\n",
        "\n",
        "# View the bottom 5 rows using .tail()\n",
        "bottom_rows_j = dfj.tail()\n",
        "print(\"Bottom 5 rows of dfj:\")\n",
        "print(bottom_rows_j)"
      ],
      "metadata": {
        "id": "naeJqUb6dD5w"
      },
      "execution_count": null,
      "outputs": []
    },
    {
      "cell_type": "code",
      "source": [
        "## Datasets found in Kaggle\n",
        "\n",
        "## Q1. Load your dataset into python using the pandas library and save data into a dataframe named dfi (where i is one of your datasets, for a total of 4).\n",
        "import pandas as pd\n",
        "ds = pd.read_csv('https://raw.githubusercontent.com/WiktoriaGnojek23/DATA-602/main/ds_salaries%5B1%5D.csv')\n",
        "car = pd.read_csv('https://raw.githubusercontent.com/WiktoriaGnojek23/DATA-602/main/Car_Parts%5B1%5D.csv')\n",
        "\n",
        "##Q2. Preview your data by calling your dataframe’s name. How many columns and rows do you see?\n",
        "## print intial lines of data set\n",
        "print(ds.head(10))\n",
        "print(car.head(10))\n",
        "# relevant information\n",
        "print(\"Number of rows for ds dataset:\", len(ds))\n",
        "print(\"Number of columns ds dataser:\", len(ds.columns))\n",
        "print(\"Number of rows car dataset:\", len(car))\n",
        "print(\"Number of columns car dataset:\", len(car.columns))\n",
        "## Q3. Examine the shape of your data using the .shape command and the data types of your columns using .dtypes.\n",
        "# Examine the shape of the data\n",
        "print(\"Data shape for ds:\", ds.shape)\n",
        "print(\"Data shape for car:\", car.shape)\n",
        "\n",
        "# Examine the data types of the columns\n",
        "print(\"Data types of ds:\")\n",
        "print(ds.dtypes)\n",
        "print(\"Data types of car:\")\n",
        "print(car.dtypes)\n",
        "# Q4. Use .describe() on your data. What do you notice about your data? What does this command return?\n",
        "# Use .describe() on the data\n",
        "## the above command shows the numeric descriptions of mean, std, quartiles, etc. This is a statistic summary command. \n",
        "description_ds= ds.describe()\n",
        "print(description_ds)\n",
        "description_car = car.describe()\n",
        "print(description_car) \n",
        "\n",
        "## Q5. Use the .head() and .tail() command - what does this do?\n",
        "# View the top 5 rows using .head()\n",
        "top_rows_ds = ds.head()\n",
        "print(\"Top 5 rows of ds:\")\n",
        "print(top_rows_ds)\n",
        "\n",
        "# View the bottom 5 rows using .tail()\n",
        "bottom_rows_ds = ds.tail()\n",
        "print(\"Bottom 5 rows of ds:\")\n",
        "print(bottom_rows_ds)\n",
        "\n",
        "# View the top 5 rows using .head()\n",
        "top_rows_car = car.head()\n",
        "print(\"Top 5 rows of car:\")\n",
        "print(top_rows_car)\n",
        "\n",
        "# View the bottom 5 rows using .tail()\n",
        "bottom_rows_car = car.tail()\n",
        "print(\"Bottom 5 rows of car:\")\n",
        "print(bottom_rows_car)"
      ],
      "metadata": {
        "id": "whwBNTRWfqLh"
      },
      "execution_count": null,
      "outputs": []
    }
  ]
}